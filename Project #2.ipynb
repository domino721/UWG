{
 "cells": [
  {
   "cell_type": "markdown",
   "id": "c443fa5a",
   "metadata": {},
   "source": [
    "1. Problem statement. \n",
    "\n",
    "Describe the dataset, analyze the target variable, and state your prediction goal."
   ]
  },
  {
   "cell_type": "code",
   "execution_count": 47,
   "id": "822c5389",
   "metadata": {},
   "outputs": [],
   "source": [
    "import pandas as pd\n",
    "from matplotlib import pyplot as plt\n",
    "import numpy as np\n",
    "\n",
    "df = pd.read_csv('ds_salaries.csv')"
   ]
  },
  {
   "cell_type": "markdown",
   "id": "b48d21c8",
   "metadata": {},
   "source": [
    "data source: Data Science Job Salaries.\n",
    "\n",
    "| Column             | Description                                                  |\n",
    "| :----------------- | :----------------------------------------------------------- |\n",
    "| work_year          | The year the salary was paid.                                |\n",
    "| experience_level   | The experience level in the job during the year with the following possible values: EN Entry-level / Junior MI Mid-level / Intermediate SE Senior-level / Expert EX Executive-level / Director |\n",
    "| employment_type    | The type of employement for the role: PT Part-time FT Full-time CT Contract FL Freelance |\n",
    "| job_title          | The role worked in during the year.                          |\n",
    "| salary             | The total gross salary amount paid.                          |\n",
    "| salary_currency    | The currency of the salary paid as an ISO 4217 currency code. |\n",
    "| salary*in*usd      | The salary in USD (FX rate divided by avg. USD rate for the respective year via fxdata.foorilla.com). |\n",
    "| employee_residence | Employee's primary country of residence in during the work year as an ISO 3166 country code. |\n",
    "| remote_ratio       | The overall amount of work done remotely, possible values are as follows: 0 No remote work (less than 20%) 50 Partially remote 100 Fully remote (more than 80%) |\n",
    "| company_location   | The country of the employer's main office or contracting branch as an ISO 3166 country code. |\n",
    "| company_size       | The average number of people that worked for the company during the year: S less than 50 employees (small) M 50 to 250 employees (medium) L more than 250 employees (large) |\n",
    "\n",
    "link: https://www.kaggle.com/datasets/ruchi798/data-science-job-salaries"
   ]
  },
  {
   "cell_type": "code",
   "execution_count": 48,
   "id": "910ccd0d",
   "metadata": {},
   "outputs": [
    {
     "data": {
      "text/plain": [
       "Index(['work_year', 'experience_level', 'employment_type', 'salary_in_usd',\n",
       "       'remote_ratio', 'company_size'],\n",
       "      dtype='object')"
      ]
     },
     "execution_count": 48,
     "metadata": {},
     "output_type": "execute_result"
    }
   ],
   "source": [
    "# 2.Basic data cleaning. \n",
    "# Drop unwanted features.  \n",
    "df_dropedfeature = df.drop(['number','job_title', 'salary', 'salary_currency', 'employee_residence', 'company_location'], axis=1)\n",
    "df_dropedfeature.columns\n"
   ]
  },
  {
   "cell_type": "code",
   "execution_count": 49,
   "id": "1c2cfe7e",
   "metadata": {},
   "outputs": [
    {
     "name": "stdout",
     "output_type": "stream",
     "text": [
      "work_year           0\n",
      "experience_level    0\n",
      "employment_type     0\n",
      "salary_in_usd       0\n",
      "remote_ratio        0\n",
      "company_size        0\n",
      "dtype: int64\n"
     ]
    }
   ],
   "source": [
    "# Address missing values. \n",
    "print(df_dropedfeature.isnull().sum())\n",
    "\n",
    "# this datas don't have any missing value.s"
   ]
  },
  {
   "cell_type": "code",
   "execution_count": 50,
   "id": "49f3c772",
   "metadata": {},
   "outputs": [],
   "source": [
    "# Remove Duplicates.\n",
    "\n",
    "# this datas don't have any duplicated low."
   ]
  },
  {
   "cell_type": "code",
   "execution_count": 51,
   "id": "cc0d8434",
   "metadata": {},
   "outputs": [
    {
     "name": "stdout",
     "output_type": "stream",
     "text": [
      "(607, 6)\n",
      "['work_year', 'experience_level', 'employment_type', 'salary_in_usd', 'remote_ratio', 'company_size']\n",
      "work_year            int64\n",
      "experience_level    object\n",
      "employment_type     object\n",
      "salary_in_usd        int64\n",
      "remote_ratio         int64\n",
      "company_size        object\n",
      "dtype: object\n"
     ]
    }
   ],
   "source": [
    "# Check if there are any inconsistent inputs for categorical variables. \n",
    "\n",
    "print(df_dropedfeature.shape)\n",
    "print(df_dropedfeature.columns.tolist())\n",
    "print(df_dropedfeature.dtypes)"
   ]
  },
  {
   "cell_type": "code",
   "execution_count": 52,
   "id": "95f14c61",
   "metadata": {},
   "outputs": [],
   "source": [
    "df_rename = df_dropedfeature.replace({\"EX\": \"SE\"})"
   ]
  },
  {
   "cell_type": "code",
   "execution_count": 53,
   "id": "e0765189",
   "metadata": {},
   "outputs": [],
   "source": [
    "# Transform categorical variables into numeric.\n",
    "df_rename = df_rename.replace({\"EN\": 0, \"MI\" :1, \"SE\":2})\n",
    "df_rename = df_rename.replace({\"PT\":0, \"CT\":1, \"FL\":2, \"FT\":3})\n",
    "df_rename = df_rename.replace({\"S\":0, \"M\":1, \"L\":2})\n",
    "df_rename = df_rename.replace({2020:0, 2021:1, 2022:2})\n",
    "df_rename = df_rename.replace({0:0, 50:1, 100:2})\n"
   ]
  },
  {
   "cell_type": "code",
   "execution_count": 54,
   "id": "ce35da7a",
   "metadata": {
    "scrolled": true
   },
   "outputs": [
    {
     "name": "stdout",
     "output_type": "stream",
     "text": [
      "AxesSubplot(0.125,0.125;0.775x0.755)\n",
      "AxesSubplot(0.125,0.125;0.775x0.755)\n"
     ]
    },
    {
     "data": {
      "image/png": "[encoded data removed]",
      "text/plain": [
       "<Figure size 432x288 with 1 Axes>"
      ]
     },
     "metadata": {
      "needs_background": "light"
     },
     "output_type": "display_data"
    }
   ],
   "source": [
    "# Use boxplots or histogram to identify outliers for numeric variables and remove them\n",
    "print(df_rename.boxplot(column = 'salary_in_usd'))\n",
    "\n",
    "index1 = df_rename[df_rename ['salary_in_usd'] > 300000].index\n",
    "df_rename.drop(index1, inplace=True)\n",
    "print(df_rename.boxplot(column = 'salary_in_usd'))"
   ]
  },
  {
   "cell_type": "code",
   "execution_count": 55,
   "id": "41ea6cbd",
   "metadata": {},
   "outputs": [
    {
     "name": "stdout",
     "output_type": "stream",
     "text": [
      "     work_year  experience_level  employment_type  salary_in_usd  \\\n",
      "0            0                 1                3          79833   \n",
      "1            0                 2                3         260000   \n",
      "2            0                 2                3         109024   \n",
      "3            0                 1                3          20000   \n",
      "4            0                 2                3         150000   \n",
      "..         ...               ...              ...            ...   \n",
      "602          2                 2                3         154000   \n",
      "603          2                 2                3         126000   \n",
      "604          2                 2                3         129000   \n",
      "605          2                 2                3         150000   \n",
      "606          2                 1                3         200000   \n",
      "\n",
      "     remote_ratio  company_size  \n",
      "0               0             2  \n",
      "1               0             0  \n",
      "2               1             1  \n",
      "3               0             0  \n",
      "4               1             2  \n",
      "..            ...           ...  \n",
      "602             2             1  \n",
      "603             2             1  \n",
      "604             0             1  \n",
      "605             2             1  \n",
      "606             2             2  \n",
      "\n",
      "[597 rows x 6 columns]\n"
     ]
    }
   ],
   "source": [
    "print(df_rename)"
   ]
  },
  {
   "cell_type": "markdown",
   "id": "f5d719ca",
   "metadata": {},
   "source": [
    "3.Feature Engineering. 20 points\n",
    "\n",
    "Feature selection. \n",
    "\n",
    "Use graphs, ANOVA test, Chi-squared test to reduce the dimension. \n",
    "Any variables with zero to little variance?  \n",
    "Any features Irrelevant to the target variable? \n",
    "Any high-correlated Features?  \n",
    "Feature scaling. \n",
    "Does this algorithm require normalized data or standardized data?\n",
    "Are there any categorical variables need to be changed to dummy variables?\n"
   ]
  },
  {
   "cell_type": "code",
   "execution_count": 56,
   "id": "6fcce1d9",
   "metadata": {},
   "outputs": [
    {
     "data": {
      "image/png": "[encoded data removed]",
      "text/plain": [
       "<Figure size 1080x1440 with 5 Axes>"
      ]
     },
     "metadata": {
      "needs_background": "light"
     },
     "output_type": "display_data"
    }
   ],
   "source": [
    "# Use boxplot and ANOVA test to check the relationship between the features and the target variable. \n",
    "\n",
    "# Numerical Features vs. Target - Box Plot\n",
    "import seaborn as sns\n",
    "num_list=['work_year', 'experience_level', 'employment_type', 'remote_ratio', 'company_size']\n",
    "fig=plt.figure(figsize=(15, 20))\n",
    "\n",
    "for i in range(len(num_list)):\n",
    "    column=num_list[i]\n",
    "    sub=fig.add_subplot(3,2,i+1)\n",
    "    sns.boxplot(x=column, y='salary_in_usd', data=df_rename)\n"
   ]
  },
  {
   "cell_type": "code",
   "execution_count": 57,
   "id": "4ce7ed53",
   "metadata": {
    "scrolled": true
   },
   "outputs": [
    {
     "name": "stdout",
     "output_type": "stream",
     "text": [
      "work_yearFeaturesS.scores_\n",
      "[24.49746365]\n",
      "work_yearFeaturesS.pvalues_\n",
      "[0.]\n",
      "experience_levelFeaturesS.scores_\n",
      "[118.26119602]\n",
      "experience_levelFeaturesS.pvalues_\n",
      "[0.]\n",
      "employment_typeFeaturesS.scores_\n",
      "[7.20165599]\n",
      "employment_typeFeaturesS.pvalues_\n",
      "[0.00009393]\n",
      "remote_ratioFeaturesS.scores_\n",
      "[18.41034165]\n",
      "remote_ratioFeaturesS.pvalues_\n",
      "[0.00000002]\n",
      "company_sizeFeaturesS.scores_\n",
      "[17.56820173]\n",
      "company_sizeFeaturesS.pvalues_\n",
      "[0.00000004]\n"
     ]
    }
   ],
   "source": [
    "# ANOVA\n",
    "from sklearn.feature_selection import SelectKBest, f_classif\n",
    "x = np.array(df_rename.loc[:, 'salary_in_usd']).reshape(-1,1)\n",
    "num_list= ['work_year', 'experience_level', 'employment_type', 'remote_ratio', 'company_size']\n",
    "\n",
    "\n",
    "for i in range(len(num_list)):\n",
    "    column=num_list[i]\n",
    "    y = df_rename.loc[:,column]\n",
    "    fs = SelectKBest(score_func=f_classif, k='all')  # call the method\n",
    "    FeaturesS = fs.fit(x, y)    # train the model\n",
    "    np.set_printoptions(suppress = True)\n",
    "    print(column+'FeaturesS.scores_')\n",
    "    print(FeaturesS.scores_)    # print out the scores \n",
    "    print(column+'FeaturesS.pvalues_')\n",
    "    print(FeaturesS.pvalues_)"
   ]
  },
  {
   "cell_type": "code",
   "execution_count": 58,
   "id": "2214d068",
   "metadata": {},
   "outputs": [
    {
     "data": {
      "text/html": [
       "<div>\n",
       "<style scoped>\n",
       "    .dataframe tbody tr th:only-of-type {\n",
       "        vertical-align: middle;\n",
       "    }\n",
       "\n",
       "    .dataframe tbody tr th {\n",
       "        vertical-align: top;\n",
       "    }\n",
       "\n",
       "    .dataframe thead th {\n",
       "        text-align: right;\n",
       "    }\n",
       "</style>\n",
       "<table border=\"1\" class=\"dataframe\">\n",
       "  <thead>\n",
       "    <tr style=\"text-align: right;\">\n",
       "      <th></th>\n",
       "      <th>salary_in_usd</th>\n",
       "      <th>work_year_1</th>\n",
       "      <th>work_year_2</th>\n",
       "      <th>experience_level_1</th>\n",
       "      <th>experience_level_2</th>\n",
       "      <th>employment_type_1</th>\n",
       "      <th>employment_type_2</th>\n",
       "      <th>employment_type_3</th>\n",
       "      <th>remote_ratio_1</th>\n",
       "      <th>remote_ratio_2</th>\n",
       "      <th>company_size_1</th>\n",
       "      <th>company_size_2</th>\n",
       "    </tr>\n",
       "  </thead>\n",
       "  <tbody>\n",
       "    <tr>\n",
       "      <th>0</th>\n",
       "      <td>79833</td>\n",
       "      <td>0</td>\n",
       "      <td>0</td>\n",
       "      <td>1</td>\n",
       "      <td>0</td>\n",
       "      <td>0</td>\n",
       "      <td>0</td>\n",
       "      <td>1</td>\n",
       "      <td>0</td>\n",
       "      <td>0</td>\n",
       "      <td>0</td>\n",
       "      <td>1</td>\n",
       "    </tr>\n",
       "    <tr>\n",
       "      <th>1</th>\n",
       "      <td>260000</td>\n",
       "      <td>0</td>\n",
       "      <td>0</td>\n",
       "      <td>0</td>\n",
       "      <td>1</td>\n",
       "      <td>0</td>\n",
       "      <td>0</td>\n",
       "      <td>1</td>\n",
       "      <td>0</td>\n",
       "      <td>0</td>\n",
       "      <td>0</td>\n",
       "      <td>0</td>\n",
       "    </tr>\n",
       "    <tr>\n",
       "      <th>2</th>\n",
       "      <td>109024</td>\n",
       "      <td>0</td>\n",
       "      <td>0</td>\n",
       "      <td>0</td>\n",
       "      <td>1</td>\n",
       "      <td>0</td>\n",
       "      <td>0</td>\n",
       "      <td>1</td>\n",
       "      <td>1</td>\n",
       "      <td>0</td>\n",
       "      <td>1</td>\n",
       "      <td>0</td>\n",
       "    </tr>\n",
       "    <tr>\n",
       "      <th>3</th>\n",
       "      <td>20000</td>\n",
       "      <td>0</td>\n",
       "      <td>0</td>\n",
       "      <td>1</td>\n",
       "      <td>0</td>\n",
       "      <td>0</td>\n",
       "      <td>0</td>\n",
       "      <td>1</td>\n",
       "      <td>0</td>\n",
       "      <td>0</td>\n",
       "      <td>0</td>\n",
       "      <td>0</td>\n",
       "    </tr>\n",
       "    <tr>\n",
       "      <th>4</th>\n",
       "      <td>150000</td>\n",
       "      <td>0</td>\n",
       "      <td>0</td>\n",
       "      <td>0</td>\n",
       "      <td>1</td>\n",
       "      <td>0</td>\n",
       "      <td>0</td>\n",
       "      <td>1</td>\n",
       "      <td>1</td>\n",
       "      <td>0</td>\n",
       "      <td>0</td>\n",
       "      <td>1</td>\n",
       "    </tr>\n",
       "  </tbody>\n",
       "</table>\n",
       "</div>"
      ],
      "text/plain": [
       "   salary_in_usd  work_year_1  work_year_2  experience_level_1  \\\n",
       "0          79833            0            0                   1   \n",
       "1         260000            0            0                   0   \n",
       "2         109024            0            0                   0   \n",
       "3          20000            0            0                   1   \n",
       "4         150000            0            0                   0   \n",
       "\n",
       "   experience_level_2  employment_type_1  employment_type_2  \\\n",
       "0                   0                  0                  0   \n",
       "1                   1                  0                  0   \n",
       "2                   1                  0                  0   \n",
       "3                   0                  0                  0   \n",
       "4                   1                  0                  0   \n",
       "\n",
       "   employment_type_3  remote_ratio_1  remote_ratio_2  company_size_1  \\\n",
       "0                  1               0               0               0   \n",
       "1                  1               0               0               0   \n",
       "2                  1               1               0               1   \n",
       "3                  1               0               0               0   \n",
       "4                  1               1               0               0   \n",
       "\n",
       "   company_size_2  \n",
       "0               1  \n",
       "1               0  \n",
       "2               0  \n",
       "3               0  \n",
       "4               1  "
      ]
     },
     "execution_count": 58,
     "metadata": {},
     "output_type": "execute_result"
    }
   ],
   "source": [
    "# Transform the Categorical Variables to Dummy Variables\n",
    "\n",
    "df_withdummies = pd.get_dummies(df_rename, columns=['work_year', 'experience_level', 'employment_type', 'remote_ratio', 'company_size'], drop_first=True)\n",
    "df_withdummies.head()\n"
   ]
  },
  {
   "cell_type": "code",
   "execution_count": 59,
   "id": "b6bf55b7",
   "metadata": {},
   "outputs": [],
   "source": [
    "from sklearn.model_selection import train_test_split\n",
    "\n",
    "x = df_withdummies.loc[:, df_withdummies.columns!='salary_in_usd']\n",
    "y = df_withdummies['salary_in_usd']\n",
    "\n",
    "x_train, x_test, y_train, y_test = train_test_split(x, y, test_size=0.2, random_state=0)"
   ]
  },
  {
   "cell_type": "markdown",
   "id": "31f30a0e",
   "metadata": {},
   "source": [
    "4. Build the prediction model.\n",
    "\n",
    "Does this data need to be balanced?\n",
    "Do you use train_test_split or cross validation to validate the result?\n",
    "Which algorithm is appropriate for this problem?\n",
    "Which metrics do you use to evaluate the prediction model?\n"
   ]
  },
  {
   "cell_type": "code",
   "execution_count": 85,
   "id": "e8ebe082",
   "metadata": {},
   "outputs": [
    {
     "name": "stdout",
     "output_type": "stream",
     "text": [
      "0.2740910091142642\n"
     ]
    }
   ],
   "source": [
    "#linear regression\n",
    "from sklearn.linear_model import LinearRegression\n",
    "\n",
    "model2 = LinearRegression()\n",
    "model2.fit(x_train, y_train)\n",
    "print(model2.score(x_test,y_test))"
   ]
  },
  {
   "cell_type": "code",
   "execution_count": 77,
   "id": "c369e5ba",
   "metadata": {
    "scrolled": false
   },
   "outputs": [
    {
     "name": "stdout",
     "output_type": "stream",
     "text": [
      "0.07122665200585587\n",
      "0.26870022481687694\n",
      "0.02425069972881977\n",
      "0.017963017302758066\n",
      "0.016329680597736207\n"
     ]
    }
   ],
   "source": [
    "#linear regression\n",
    "from sklearn.linear_model import LinearRegression\n",
    "y = np.array(df_rename.loc[:, 'salary_in_usd']).reshape(-1,1)\n",
    "num_list= ['work_year', 'experience_level', 'employment_type', 'remote_ratio', 'company_size']\n",
    "\n",
    "\n",
    "for i in range(len(num_list)):\n",
    "    column=num_list[i]\n",
    "    x = np.array(df_rename.loc[:,column]).reshape(-1,1)\n",
    "    model2 = LinearRegression()\n",
    "    model2.fit(x,y)\n",
    "    print(model2.score(x,y))"
   ]
  },
  {
   "cell_type": "code",
   "execution_count": 61,
   "id": "04750135",
   "metadata": {},
   "outputs": [
    {
     "data": {
      "text/html": [
       "<style>#sk-container-id-3 {color: black;background-color: white;}#sk-container-id-3 pre{padding: 0;}#sk-container-id-3 div.sk-toggleable {background-color: white;}#sk-container-id-3 label.sk-toggleable__label {cursor: pointer;display: block;width: 100%;margin-bottom: 0;padding: 0.3em;box-sizing: border-box;text-align: center;}#sk-container-id-3 label.sk-toggleable__label-arrow:before {content: \"▸\";float: left;margin-right: 0.25em;color: #696969;}#sk-container-id-3 label.sk-toggleable__label-arrow:hover:before {color: black;}#sk-container-id-3 div.sk-estimator:hover label.sk-toggleable__label-arrow:before {color: black;}#sk-container-id-3 div.sk-toggleable__content {max-height: 0;max-width: 0;overflow: hidden;text-align: left;background-color: #f0f8ff;}#sk-container-id-3 div.sk-toggleable__content pre {margin: 0.2em;color: black;border-radius: 0.25em;background-color: #f0f8ff;}#sk-container-id-3 input.sk-toggleable__control:checked~div.sk-toggleable__content {max-height: 200px;max-width: 100%;overflow: auto;}#sk-container-id-3 input.sk-toggleable__control:checked~label.sk-toggleable__label-arrow:before {content: \"▾\";}#sk-container-id-3 div.sk-estimator input.sk-toggleable__control:checked~label.sk-toggleable__label {background-color: #d4ebff;}#sk-container-id-3 div.sk-label input.sk-toggleable__control:checked~label.sk-toggleable__label {background-color: #d4ebff;}#sk-container-id-3 input.sk-hidden--visually {border: 0;clip: rect(1px 1px 1px 1px);clip: rect(1px, 1px, 1px, 1px);height: 1px;margin: -1px;overflow: hidden;padding: 0;position: absolute;width: 1px;}#sk-container-id-3 div.sk-estimator {font-family: monospace;background-color: #f0f8ff;border: 1px dotted black;border-radius: 0.25em;box-sizing: border-box;margin-bottom: 0.5em;}#sk-container-id-3 div.sk-estimator:hover {background-color: #d4ebff;}#sk-container-id-3 div.sk-parallel-item::after {content: \"\";width: 100%;border-bottom: 1px solid gray;flex-grow: 1;}#sk-container-id-3 div.sk-label:hover label.sk-toggleable__label {background-color: #d4ebff;}#sk-container-id-3 div.sk-serial::before {content: \"\";position: absolute;border-left: 1px solid gray;box-sizing: border-box;top: 0;bottom: 0;left: 50%;z-index: 0;}#sk-container-id-3 div.sk-serial {display: flex;flex-direction: column;align-items: center;background-color: white;padding-right: 0.2em;padding-left: 0.2em;position: relative;}#sk-container-id-3 div.sk-item {position: relative;z-index: 1;}#sk-container-id-3 div.sk-parallel {display: flex;align-items: stretch;justify-content: center;background-color: white;position: relative;}#sk-container-id-3 div.sk-item::before, #sk-container-id-3 div.sk-parallel-item::before {content: \"\";position: absolute;border-left: 1px solid gray;box-sizing: border-box;top: 0;bottom: 0;left: 50%;z-index: -1;}#sk-container-id-3 div.sk-parallel-item {display: flex;flex-direction: column;z-index: 1;position: relative;background-color: white;}#sk-container-id-3 div.sk-parallel-item:first-child::after {align-self: flex-end;width: 50%;}#sk-container-id-3 div.sk-parallel-item:last-child::after {align-self: flex-start;width: 50%;}#sk-container-id-3 div.sk-parallel-item:only-child::after {width: 0;}#sk-container-id-3 div.sk-dashed-wrapped {border: 1px dashed gray;margin: 0 0.4em 0.5em 0.4em;box-sizing: border-box;padding-bottom: 0.4em;background-color: white;}#sk-container-id-3 div.sk-label label {font-family: monospace;font-weight: bold;display: inline-block;line-height: 1.2em;}#sk-container-id-3 div.sk-label-container {text-align: center;}#sk-container-id-3 div.sk-container {/* jupyter's `normalize.less` sets `[hidden] { display: none; }` but bootstrap.min.css set `[hidden] { display: none !important; }` so we also need the `!important` here to be able to override the default hidden behavior on the sphinx rendered scikit-learn.org. See: https://github.com/scikit-learn/scikit-learn/issues/21755 */display: inline-block !important;position: relative;}#sk-container-id-3 div.sk-text-repr-fallback {display: none;}</style><div id=\"sk-container-id-3\" class=\"sk-top-container\"><div class=\"sk-text-repr-fallback\"><pre>LinearRegression()</pre><b>In a Jupyter environment, please rerun this cell to show the HTML representation or trust the notebook. <br />On GitHub, the HTML representation is unable to render, please try loading this page with nbviewer.org.</b></div><div class=\"sk-container\" hidden><div class=\"sk-item\"><div class=\"sk-estimator sk-toggleable\"><input class=\"sk-toggleable__control sk-hidden--visually\" id=\"sk-estimator-id-3\" type=\"checkbox\" checked><label for=\"sk-estimator-id-3\" class=\"sk-toggleable__label sk-toggleable__label-arrow\">LinearRegression</label><div class=\"sk-toggleable__content\"><pre>LinearRegression()</pre></div></div></div></div></div>"
      ],
      "text/plain": [
       "LinearRegression()"
      ]
     },
     "execution_count": 61,
     "metadata": {},
     "output_type": "execute_result"
    }
   ],
   "source": [
    "# Multiple linear regression. \n",
    "x = df_withdummies.loc[:,['work_year_1','work_year_2','experience_level_1','experience_level_2', 'employment_type_1', 'employment_type_2', 'employment_type_3', 'remote_ratio_1', 'remote_ratio_2', 'company_size_1', 'company_size_2']]\n",
    "Y = df_withdummies['salary_in_usd']\n",
    "\n",
    "from sklearn.linear_model import LinearRegression\n",
    "\n",
    "model1 = LinearRegression()\n",
    "model1.fit(x, Y)"
   ]
  },
  {
   "cell_type": "code",
   "execution_count": 62,
   "id": "8fea6e1f",
   "metadata": {
    "scrolled": true
   },
   "outputs": [
    {
     "name": "stdout",
     "output_type": "stream",
     "text": [
      "0.34089928537458136\n",
      "23171.891014774475\n",
      "[   456.91886803  12066.83119198  14264.92200391  64222.14961859\n",
      "  55852.59535403 -16378.11722546  25192.23548696 -15084.62308011\n",
      "   7156.84525649  10257.28637738  25083.68009676]\n"
     ]
    }
   ],
   "source": [
    "print(model1.score(x, Y))\n",
    "\n",
    "print(model1.intercept_)\n",
    "print(model1.coef_)"
   ]
  },
  {
   "cell_type": "code",
   "execution_count": 86,
   "id": "9f406fa9",
   "metadata": {},
   "outputs": [],
   "source": [
    "# Polynomial regression 2nd try\n",
    "\n",
    "y = np.array(df_rename.loc[:, 'salary_in_usd']).reshape(-1,1)\n",
    "num_list= ['work_year', 'experience_level', 'employment_type', 'remote_ratio', 'company_size']\n",
    "\n",
    "\n",
    "from sklearn.preprocessing import PolynomialFeatures\n",
    "for i in range(len(num_list)):\n",
    "    column=num_list[i]\n",
    "    x = np.array(df_rename.loc[:,column]).reshape(-1,1)\n",
    "    polynomial_features = PolynomialFeatures(degree = 2)\n",
    "    x_new = polynomial_features.fit_transform(x)"
   ]
  },
  {
   "cell_type": "code",
   "execution_count": 87,
   "id": "64c6e259",
   "metadata": {},
   "outputs": [
    {
     "data": {
      "text/plain": [
       "array([[1., 2., 4.],\n",
       "       [1., 0., 0.],\n",
       "       [1., 1., 1.],\n",
       "       ...,\n",
       "       [1., 1., 1.],\n",
       "       [1., 1., 1.],\n",
       "       [1., 2., 4.]])"
      ]
     },
     "execution_count": 87,
     "metadata": {},
     "output_type": "execute_result"
    }
   ],
   "source": [
    "x_new"
   ]
  },
  {
   "cell_type": "code",
   "execution_count": 88,
   "id": "7769f6f1",
   "metadata": {},
   "outputs": [
    {
     "name": "stdout",
     "output_type": "stream",
     "text": [
      "0.055848625616337855\n"
     ]
    }
   ],
   "source": [
    "model3 = LinearRegression()\n",
    "model3.fit(x_new,y)\n",
    "print(model3.score(x_new,y))"
   ]
  },
  {
   "cell_type": "code",
   "execution_count": 89,
   "id": "0cc5de35",
   "metadata": {},
   "outputs": [
    {
     "name": "stdout",
     "output_type": "stream",
     "text": [
      "[73506.24390244]\n",
      "[[     0.          66250.8018472  -24518.82970026]]\n"
     ]
    }
   ],
   "source": [
    "print(model3.intercept_)\n",
    "print(model3.coef_)"
   ]
  },
  {
   "cell_type": "code",
   "execution_count": null,
   "id": "22ac902b",
   "metadata": {},
   "outputs": [],
   "source": []
  }
 ],
 "metadata": {
  "kernelspec": {
   "display_name": "Python 3 (ipykernel)",
   "language": "python",
   "name": "python3"
  },
  "language_info": {
   "codemirror_mode": {
    "name": "ipython",
    "version": 3
   },
   "file_extension": ".py",
   "mimetype": "text/x-python",
   "name": "python",
   "nbconvert_exporter": "python",
   "pygments_lexer": "ipython3",
   "version": "3.9.12"
  }
 },
 "nbformat": 4,
 "nbformat_minor": 5
}
