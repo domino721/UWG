{
 "cells": [
  {
   "cell_type": "markdown",
   "id": "248361f1",
   "metadata": {},
   "source": [
    "**1. Problem statements.**\n",
    "\n",
    "**Load the data (It should have at least 100 rows.) and get familiar with it. Describe the data source and include its link.**"
   ]
  },
  {
   "cell_type": "code",
   "execution_count": 1,
   "id": "300a9f0c",
   "metadata": {},
   "outputs": [],
   "source": [
    "import pandas as pd\n",
    "from matplotlib import pyplot as plt\n",
    "import numpy as np\n",
    "\n",
    "df = pd.read_csv('ds_salaries.csv')\n"
   ]
  },
  {
   "cell_type": "markdown",
   "id": "e916b4c8",
   "metadata": {},
   "source": [
    "data source: Data Science Job Salaries.\n",
    "\n",
    "| Column             | Description                                                  |\n",
    "| :----------------- | :----------------------------------------------------------- |\n",
    "| work_year          | The year the salary was paid.                                |\n",
    "| experience_level   | The experience level in the job during the year with the following possible values: EN Entry-level / Junior MI Mid-level / Intermediate SE Senior-level / Expert EX Executive-level / Director |\n",
    "| employment_type    | The type of employement for the role: PT Part-time FT Full-time CT Contract FL Freelance |\n",
    "| job_title          | The role worked in during the year.                          |\n",
    "| salary             | The total gross salary amount paid.                          |\n",
    "| salary_currency    | The currency of the salary paid as an ISO 4217 currency code. |\n",
    "| salary*in*usd      | The salary in USD (FX rate divided by avg. USD rate for the respective year via fxdata.foorilla.com). |\n",
    "| employee_residence | Employee's primary country of residence in during the work year as an ISO 3166 country code. |\n",
    "| remote_ratio       | The overall amount of work done remotely, possible values are as follows: 0 No remote work (less than 20%) 50 Partially remote 100 Fully remote (more than 80%) |\n",
    "| company_location   | The country of the employer's main office or contracting branch as an ISO 3166 country code. |\n",
    "| company_size       | The average number of people that worked for the company during the year: S less than 50 employees (small) M 50 to 250 employees (medium) L more than 250 employees (large) |\n",
    "\n",
    "link: https://www.kaggle.com/datasets/ruchi798/data-science-job-salaries"
   ]
  },
  {
   "cell_type": "markdown",
   "id": "b4cb9ac9",
   "metadata": {},
   "source": [
    "**List out three questions you want to investigate from this dataset. These questions could be a trend, a comparison between different groups of a categorical feature, a relationship between two variables, or a distribution of a numerical variable.**\n",
    "\n",
    "Remote Working ratio has improved since COVID-19. As this data sets have ratio rate in data science work field from 2019 to 2022, it is proper to find some result that I had interests.\n",
    "\n",
    "1. How much salary difference depends on part of 'remote_ratio'? & What is the biggest group of 'remote_ratio' in the field of data science?\n",
    "\n",
    "2. How to explain the trend of the remote ratio?\n",
    "\n",
    "3. Is there a difference in \"remote_ratio\" according to \"experience level\"? If there is a difference, can it be said that it made a difference in the salary?"
   ]
  },
  {
   "cell_type": "markdown",
   "id": "45583761",
   "metadata": {},
   "source": [
    "**2. Data cleaning.**\n",
    "\n",
    "**Follow the data cleaning steps to clean the data.\n",
    "    a. Drop any unwanted features if necessary.\n",
    "    b. Address any missing values\n",
    "    c. Remove duplicates if necessary.\n",
    "    d. Check the data type of each column.\n",
    "    e. For categorical variables, check if there are any inconsistent inputs. d. For numeric variables, check any outliers.  20 points**"
   ]
  },
  {
   "cell_type": "code",
   "execution_count": 2,
   "id": "0294a396",
   "metadata": {},
   "outputs": [
    {
     "data": {
      "text/plain": [
       "Index(['Unnamed: 0', 'work_year', 'experience_level', 'employment_type',\n",
       "       'salary_in_usd', 'remote_ratio'],\n",
       "      dtype='object')"
      ]
     },
     "execution_count": 2,
     "metadata": {},
     "output_type": "execute_result"
    }
   ],
   "source": [
    "# a. Drop any unwanted features if necessary.\n",
    "df_dropedfeature = df.drop(['job_title', 'salary', 'salary_currency', 'employee_residence', 'company_location', 'company_size'], axis=1)\n",
    "df_dropedfeature.columns"
   ]
  },
  {
   "cell_type": "code",
   "execution_count": 3,
   "id": "1aed0976",
   "metadata": {},
   "outputs": [
    {
     "name": "stdout",
     "output_type": "stream",
     "text": [
      "Unnamed: 0          0\n",
      "work_year           0\n",
      "experience_level    0\n",
      "employment_type     0\n",
      "salary_in_usd       0\n",
      "remote_ratio        0\n",
      "dtype: int64\n"
     ]
    }
   ],
   "source": [
    "# b. Address any missing values\n",
    "print(df_dropedfeature.isnull().sum())\n",
    "\n",
    "# this datas don't have any missing value.s"
   ]
  },
  {
   "cell_type": "code",
   "execution_count": 4,
   "id": "03be215e",
   "metadata": {},
   "outputs": [],
   "source": [
    "# c. Remove duplicates if necessary.\n",
    "\n",
    "# this datas don't have any duplicated low."
   ]
  },
  {
   "cell_type": "code",
   "execution_count": 5,
   "id": "0302b637",
   "metadata": {},
   "outputs": [
    {
     "name": "stdout",
     "output_type": "stream",
     "text": [
      "(607, 6)\n",
      "['Unnamed: 0', 'work_year', 'experience_level', 'employment_type', 'salary_in_usd', 'remote_ratio']\n",
      "Unnamed: 0           int64\n",
      "work_year            int64\n",
      "experience_level    object\n",
      "employment_type     object\n",
      "salary_in_usd        int64\n",
      "remote_ratio         int64\n",
      "dtype: object\n"
     ]
    }
   ],
   "source": [
    "# d. Check the data type of each column.\n",
    "\n",
    "print(df_dropedfeature.shape)\n",
    "print(df_dropedfeature.columns.tolist())\n",
    "print(df_dropedfeature.dtypes)"
   ]
  },
  {
   "cell_type": "code",
   "execution_count": 6,
   "id": "333c9699",
   "metadata": {},
   "outputs": [],
   "source": [
    "# e. For categorical variables, check if there are any inconsistent inputs.\n",
    "\n",
    "# Intermediate SE Senior-level & Expert EX Executive-level doesn't have discreteable difference. change EX to SE\n",
    "df_rename = df_dropedfeature.replace({\"EX\": \"SE\"})\n",
    "\n",
    "# remote ratio is categorical value. Let's change remote ratio as categorical value.\n",
    "df_rename = df_rename.replace({0: \"No remote work (less than 20%)\", 50: \"Partially remote\", 100: \"Fully remote (more than 80%)\"})"
   ]
  },
  {
   "cell_type": "code",
   "execution_count": 7,
   "id": "4d9dc828",
   "metadata": {},
   "outputs": [
    {
     "name": "stdout",
     "output_type": "stream",
     "text": [
      "AxesSubplot(0.125,0.125;0.775x0.755)\n",
      "AxesSubplot(0.125,0.125;0.775x0.755)\n"
     ]
    },
    {
     "data": {
      "image/png": "[encoded data removed]",
      "text/plain": [
       "<Figure size 432x288 with 1 Axes>"
      ]
     },
     "metadata": {
      "needs_background": "light"
     },
     "output_type": "display_data"
    }
   ],
   "source": [
    "# f. For numeric variables, check any outliers.\n",
    "\n",
    "print(df_rename.boxplot(column = 'salary_in_usd'))\n",
    "\n",
    "index1 = df_rename[df_rename ['salary_in_usd'] > 300000].index\n",
    "df_rename.drop(index1, inplace=True)\n",
    "print(df_rename.boxplot(column = 'salary_in_usd'))"
   ]
  },
  {
   "cell_type": "markdown",
   "id": "689dcaf4",
   "metadata": {},
   "source": [
    "**3. Exploratory data Analysis and Interpretation of the results.** \n",
    "\n",
    "**Process the data. Generate the result you want.\n",
    "Create a graph to visualize the result. \n",
    "Interpret the result. Explain your findings.**\n"
   ]
  },
  {
   "cell_type": "code",
   "execution_count": 8,
   "id": "40108a9f",
   "metadata": {},
   "outputs": [
    {
     "data": {
      "text/html": [
       "<div>\n",
       "<style scoped>\n",
       "    .dataframe tbody tr th:only-of-type {\n",
       "        vertical-align: middle;\n",
       "    }\n",
       "\n",
       "    .dataframe tbody tr th {\n",
       "        vertical-align: top;\n",
       "    }\n",
       "\n",
       "    .dataframe thead th {\n",
       "        text-align: right;\n",
       "    }\n",
       "</style>\n",
       "<table border=\"1\" class=\"dataframe\">\n",
       "  <thead>\n",
       "    <tr style=\"text-align: right;\">\n",
       "      <th></th>\n",
       "      <th>salary_in_usd</th>\n",
       "    </tr>\n",
       "    <tr>\n",
       "      <th>remote_ratio</th>\n",
       "      <th></th>\n",
       "    </tr>\n",
       "  </thead>\n",
       "  <tbody>\n",
       "    <tr>\n",
       "      <th>Fully remote (more than 80%)</th>\n",
       "      <td>116204.530831</td>\n",
       "    </tr>\n",
       "    <tr>\n",
       "      <th>No remote work (less than 20%)</th>\n",
       "      <td>103627.277778</td>\n",
       "    </tr>\n",
       "    <tr>\n",
       "      <th>Partially remote</th>\n",
       "      <td>77331.428571</td>\n",
       "    </tr>\n",
       "  </tbody>\n",
       "</table>\n",
       "</div>"
      ],
      "text/plain": [
       "                                salary_in_usd\n",
       "remote_ratio                                 \n",
       "Fully remote (more than 80%)    116204.530831\n",
       "No remote work (less than 20%)  103627.277778\n",
       "Partially remote                 77331.428571"
      ]
     },
     "execution_count": 8,
     "metadata": {},
     "output_type": "execute_result"
    }
   ],
   "source": [
    "#1. How much salary difference depends on part of 'remote_ratio'? \n",
    "# What is the biggest group of 'remote_ratio' in the field of data science?\n",
    "\n",
    "pivot1 = pd.pivot_table(df_rename, values = ['salary_in_usd'], index = ['remote_ratio'], aggfunc='mean', fill_value=None, margins=False, dropna=True, margins_name='All', observed=False, sort = True)\n",
    "pivot1"
   ]
  },
  {
   "cell_type": "code",
   "execution_count": 9,
   "id": "7ec70894",
   "metadata": {},
   "outputs": [
    {
     "data": {
      "image/png": "[encoded data removed]",
      "text/plain": [
       "<Figure size 432x288 with 1 Axes>"
      ]
     },
     "metadata": {
      "needs_background": "light"
     },
     "output_type": "display_data"
    }
   ],
   "source": [
    "pivot1.reset_index(inplace=True) #Change pivottable to database.\n",
    "\n",
    "plt.barh(pivot1.iloc[:, 0], pivot1.iloc[:, 1])\n",
    "plt.ylabel('remote ratio')\n",
    "plt.xlabel('salary in usd')\n",
    "plt.title('salary in usd depends on remote ratio')\n",
    "\n",
    "\n",
    "plt.show()"
   ]
  },
  {
   "cell_type": "markdown",
   "id": "bca68450",
   "metadata": {},
   "source": [
    "To begin with, this data separated the remote ratio into 3 parts, depends on the percentage of remote work ratio. The group the remote-works less than 20% is called as No remote work. The group the remote-works from 20% to 80% is called as partially remote. The group the remote-works more than 80% is called as Fully remote. According to this graph, Fully remote group has the biggest salary and No remote work group gets second salary. Partially group gets the lowest salary. The standard of salary is the average of salary in each group. Salary average in the partially remote group is only 66.55% of Fully remote group's salary average."
   ]
  },
  {
   "cell_type": "code",
   "execution_count": 10,
   "id": "998960a4",
   "metadata": {},
   "outputs": [
    {
     "data": {
      "text/html": [
       "<div>\n",
       "<style scoped>\n",
       "    .dataframe tbody tr th:only-of-type {\n",
       "        vertical-align: middle;\n",
       "    }\n",
       "\n",
       "    .dataframe tbody tr th {\n",
       "        vertical-align: top;\n",
       "    }\n",
       "\n",
       "    .dataframe thead th {\n",
       "        text-align: right;\n",
       "    }\n",
       "</style>\n",
       "<table border=\"1\" class=\"dataframe\">\n",
       "  <thead>\n",
       "    <tr style=\"text-align: right;\">\n",
       "      <th></th>\n",
       "      <th>salary_in_usd</th>\n",
       "    </tr>\n",
       "    <tr>\n",
       "      <th>remote_ratio</th>\n",
       "      <th></th>\n",
       "    </tr>\n",
       "  </thead>\n",
       "  <tbody>\n",
       "    <tr>\n",
       "      <th>Fully remote (more than 80%)</th>\n",
       "      <td>373</td>\n",
       "    </tr>\n",
       "    <tr>\n",
       "      <th>No remote work (less than 20%)</th>\n",
       "      <td>126</td>\n",
       "    </tr>\n",
       "    <tr>\n",
       "      <th>Partially remote</th>\n",
       "      <td>98</td>\n",
       "    </tr>\n",
       "  </tbody>\n",
       "</table>\n",
       "</div>"
      ],
      "text/plain": [
       "                                salary_in_usd\n",
       "remote_ratio                                 \n",
       "Fully remote (more than 80%)              373\n",
       "No remote work (less than 20%)            126\n",
       "Partially remote                           98"
      ]
     },
     "execution_count": 10,
     "metadata": {},
     "output_type": "execute_result"
    }
   ],
   "source": [
    "pivot2 = pd.pivot_table(df_rename, values = ['salary_in_usd'], index = ['remote_ratio'], aggfunc='count', fill_value=None, margins=False, dropna=True, margins_name='All', observed=False, sort = True)\n",
    "pivot2\n"
   ]
  },
  {
   "cell_type": "code",
   "execution_count": 11,
   "id": "ccb9a769",
   "metadata": {},
   "outputs": [
    {
     "data": {
      "image/png": "[encoded data removed]",
      "text/plain": [
       "<Figure size 1440x2160 with 1 Axes>"
      ]
     },
     "metadata": {},
     "output_type": "display_data"
    }
   ],
   "source": [
    "pivot2.reset_index(inplace=True) #Change pivottable to database.\n",
    "\n",
    "plt.figure(figsize = (20,30))\n",
    "plt.pie(pivot2.iloc[:, 1], labels = pivot2.iloc[:, 0], autopct = '%.2f%%')\n",
    "plt.legend(pivot2.iloc[:, 0], loc='best')\n",
    "\n",
    "plt.legend()\n",
    "plt.show()"
   ]
  },
  {
   "cell_type": "markdown",
   "id": "81796b58",
   "metadata": {},
   "source": [
    "The biggest part in pie chart is Fully remote. 62.48% of data belongs to full remote. The second-biggest part in the pie chart is No remote work. 21.11% of data belongs to No remote work. The lowest part of the pie chart is Partially remote. Only 16.42% of data belongs to Partially remote. If we connect the prior bar graph and this pie graph, the Fully remote group gets the largest salary even though this group's number of amount is the largest too. Also, we can find Fully remote is the most popular work type from 2020 to 2022."
   ]
  },
  {
   "cell_type": "code",
   "execution_count": 23,
   "id": "2f88379f",
   "metadata": {},
   "outputs": [
    {
     "data": {
      "text/html": [
       "<div>\n",
       "<style scoped>\n",
       "    .dataframe tbody tr th:only-of-type {\n",
       "        vertical-align: middle;\n",
       "    }\n",
       "\n",
       "    .dataframe tbody tr th {\n",
       "        vertical-align: top;\n",
       "    }\n",
       "\n",
       "    .dataframe thead th {\n",
       "        text-align: right;\n",
       "    }\n",
       "</style>\n",
       "<table border=\"1\" class=\"dataframe\">\n",
       "  <thead>\n",
       "    <tr style=\"text-align: right;\">\n",
       "      <th></th>\n",
       "      <th>remote_ratio</th>\n",
       "      <th>work_year</th>\n",
       "      <th>salary_in_usd</th>\n",
       "    </tr>\n",
       "  </thead>\n",
       "  <tbody>\n",
       "    <tr>\n",
       "      <th>0</th>\n",
       "      <td>Fully remote (more than 80%)</td>\n",
       "      <td>2020</td>\n",
       "      <td>34</td>\n",
       "    </tr>\n",
       "    <tr>\n",
       "      <th>1</th>\n",
       "      <td>Fully remote (more than 80%)</td>\n",
       "      <td>2021</td>\n",
       "      <td>114</td>\n",
       "    </tr>\n",
       "    <tr>\n",
       "      <th>2</th>\n",
       "      <td>Fully remote (more than 80%)</td>\n",
       "      <td>2022</td>\n",
       "      <td>225</td>\n",
       "    </tr>\n",
       "    <tr>\n",
       "      <th>3</th>\n",
       "      <td>No remote work (less than 20%)</td>\n",
       "      <td>2020</td>\n",
       "      <td>14</td>\n",
       "    </tr>\n",
       "    <tr>\n",
       "      <th>4</th>\n",
       "      <td>No remote work (less than 20%)</td>\n",
       "      <td>2021</td>\n",
       "      <td>34</td>\n",
       "    </tr>\n",
       "    <tr>\n",
       "      <th>5</th>\n",
       "      <td>No remote work (less than 20%)</td>\n",
       "      <td>2022</td>\n",
       "      <td>78</td>\n",
       "    </tr>\n",
       "    <tr>\n",
       "      <th>6</th>\n",
       "      <td>Partially remote</td>\n",
       "      <td>2020</td>\n",
       "      <td>21</td>\n",
       "    </tr>\n",
       "    <tr>\n",
       "      <th>7</th>\n",
       "      <td>Partially remote</td>\n",
       "      <td>2021</td>\n",
       "      <td>65</td>\n",
       "    </tr>\n",
       "    <tr>\n",
       "      <th>8</th>\n",
       "      <td>Partially remote</td>\n",
       "      <td>2022</td>\n",
       "      <td>12</td>\n",
       "    </tr>\n",
       "  </tbody>\n",
       "</table>\n",
       "</div>"
      ],
      "text/plain": [
       "                     remote_ratio  work_year  salary_in_usd\n",
       "0    Fully remote (more than 80%)       2020             34\n",
       "1    Fully remote (more than 80%)       2021            114\n",
       "2    Fully remote (more than 80%)       2022            225\n",
       "3  No remote work (less than 20%)       2020             14\n",
       "4  No remote work (less than 20%)       2021             34\n",
       "5  No remote work (less than 20%)       2022             78\n",
       "6                Partially remote       2020             21\n",
       "7                Partially remote       2021             65\n",
       "8                Partially remote       2022             12"
      ]
     },
     "execution_count": 23,
     "metadata": {},
     "output_type": "execute_result"
    }
   ],
   "source": [
    "# 2. How to explain the trend of the remote ratio?\n",
    "\n",
    "pivot3 = pd.pivot_table(df_rename, values = ['salary_in_usd'], index = ['remote_ratio', 'work_year'], aggfunc='count', fill_value=None, margins=False, dropna=True, margins_name='All', observed=False, sort = True)\n",
    "pivot3.reset_index(inplace=True) #Change pivottable to database.\n",
    "\n",
    "pivot3"
   ]
  },
  {
   "cell_type": "code",
   "execution_count": 13,
   "id": "a32ad2f4",
   "metadata": {
    "scrolled": true
   },
   "outputs": [
    {
     "data": {
      "text/plain": [
       "([<matplotlib.axis.YTick at 0x22e499c2310>,\n",
       "  <matplotlib.axis.YTick at 0x22e499c2a60>,\n",
       "  <matplotlib.axis.YTick at 0x22e499c8850>,\n",
       "  <matplotlib.axis.YTick at 0x22e49a1e850>,\n",
       "  <matplotlib.axis.YTick at 0x22e499d6070>,\n",
       "  <matplotlib.axis.YTick at 0x22e49a2ff70>,\n",
       "  <matplotlib.axis.YTick at 0x22e499d6790>,\n",
       "  <matplotlib.axis.YTick at 0x22e49a1e550>],\n",
       " [Text(0, 0, ''),\n",
       "  Text(0, 0, ''),\n",
       "  Text(0, 0, ''),\n",
       "  Text(0, 0, ''),\n",
       "  Text(0, 0, ''),\n",
       "  Text(0, 0, ''),\n",
       "  Text(0, 0, ''),\n",
       "  Text(0, 0, '')])"
      ]
     },
     "execution_count": 13,
     "metadata": {},
     "output_type": "execute_result"
    },
    {
     "data": {
      "image/png": "[encoded data removed]",
      "text/plain": [
       "<Figure size 432x288 with 1 Axes>"
      ]
     },
     "metadata": {
      "needs_background": "light"
     },
     "output_type": "display_data"
    }
   ],
   "source": [
    "col = [2020, 2021, 2022]\n",
    "ind = ['No remote work (less than 20%)' , 'Partially remote', 'Fully remote (more than 80%)']\n",
    "con = [[14, 34, 78], [21,65,12], [34, 114, 225]]\n",
    "df = pd.DataFrame(con, columns=col, index=ind)\n",
    "df\n",
    "\n",
    "total_enrol = [sum(df.iloc[:, 0]),sum(df.iloc[:, 1]), sum(df.iloc[:, 2])]\n",
    "total_enrol\n",
    "\n",
    "width = 0.1\n",
    "x_axis = np.arange(0,3)\n",
    "\n",
    "plt.bar(x_axis, df.iloc[0, :], width = width)\n",
    "plt.bar(x_axis+0.1, df.iloc[1, :], width = width)\n",
    "plt.bar(x_axis+0.1*2, df.iloc[2, :], width = width)\n",
    "\n",
    "plt.xlabel('three categories of remote work')\n",
    "plt.ylabel('number of position')\n",
    "plt.title('Number of position in each remote work parts')\n",
    "plt.legend(df.index[0:3], loc = 'best') \n",
    "\n",
    "plt.plot(total_enrol)\n",
    "\n",
    "plt.xticks(x_axis, df.columns[0:3])\n",
    "plt.yticks(np.arange(0, 400, 50))"
   ]
  },
  {
   "cell_type": "markdown",
   "id": "013d25dd",
   "metadata": {},
   "source": [
    "The line graph means total counts of positions in data science field. The positions in data science field has steadily improved since 2020. The blue bar graph means No remote position's number. They have improved, but the increasing trend is not rapidly like total positions' number in data science field. Partially remote positions in data science field improved in 2021, but they decreased in 2022 compared to 2020 and 2021. The green bar graph means the number of positions in fully remote parts in the data science field. They have increased since 2020. Also, their increasing trend seems rapidly like total numbers of positions in data science fields."
   ]
  },
  {
   "cell_type": "code",
   "execution_count": 14,
   "id": "4d603789",
   "metadata": {},
   "outputs": [],
   "source": [
    "# 3. Is there a difference in \"remote_ratio\" according to \"experience level\"?\n",
    "# If there is a difference, can it be said that it made a difference in the salary?\n",
    "\n",
    "condition1 = (df_rename.remote_ratio == \"Fully remote (more than 80%)\")\n",
    "condition2 = (df_rename.remote_ratio == \"Partially remote\")\n",
    "condition3 = (df_rename.remote_ratio == \"No remote work (less than 20%)\")\n",
    "\n",
    "df_c1 = df_rename.loc[condition1]\n",
    "df_c2 = df_rename.loc[condition2]\n",
    "df_c3 = df_rename.loc[condition3]"
   ]
  },
  {
   "cell_type": "code",
   "execution_count": 15,
   "id": "f58fd34b",
   "metadata": {},
   "outputs": [
    {
     "data": {
      "text/html": [
       "<div>\n",
       "<style scoped>\n",
       "    .dataframe tbody tr th:only-of-type {\n",
       "        vertical-align: middle;\n",
       "    }\n",
       "\n",
       "    .dataframe tbody tr th {\n",
       "        vertical-align: top;\n",
       "    }\n",
       "\n",
       "    .dataframe thead th {\n",
       "        text-align: right;\n",
       "    }\n",
       "</style>\n",
       "<table border=\"1\" class=\"dataframe\">\n",
       "  <thead>\n",
       "    <tr style=\"text-align: right;\">\n",
       "      <th></th>\n",
       "      <th>experience_level</th>\n",
       "      <th>salary_in_usd</th>\n",
       "    </tr>\n",
       "  </thead>\n",
       "  <tbody>\n",
       "    <tr>\n",
       "      <th>0</th>\n",
       "      <td>EN</td>\n",
       "      <td>49</td>\n",
       "    </tr>\n",
       "    <tr>\n",
       "      <th>1</th>\n",
       "      <td>MI</td>\n",
       "      <td>114</td>\n",
       "    </tr>\n",
       "    <tr>\n",
       "      <th>2</th>\n",
       "      <td>SE</td>\n",
       "      <td>210</td>\n",
       "    </tr>\n",
       "  </tbody>\n",
       "</table>\n",
       "</div>"
      ],
      "text/plain": [
       "  experience_level  salary_in_usd\n",
       "0               EN             49\n",
       "1               MI            114\n",
       "2               SE            210"
      ]
     },
     "execution_count": 15,
     "metadata": {},
     "output_type": "execute_result"
    }
   ],
   "source": [
    "pivot4 = pd.pivot_table(df_c1, values = ['salary_in_usd'], index = ['experience_level'], aggfunc='count', fill_value=None, margins=False, dropna=True, margins_name='All', observed=False, sort = True)\n",
    "pivot4.reset_index(inplace=True) #Change pivottable to database.\n",
    "\n",
    "pivot4"
   ]
  },
  {
   "cell_type": "code",
   "execution_count": 16,
   "id": "af13a1ae",
   "metadata": {},
   "outputs": [
    {
     "data": {
      "text/html": [
       "<div>\n",
       "<style scoped>\n",
       "    .dataframe tbody tr th:only-of-type {\n",
       "        vertical-align: middle;\n",
       "    }\n",
       "\n",
       "    .dataframe tbody tr th {\n",
       "        vertical-align: top;\n",
       "    }\n",
       "\n",
       "    .dataframe thead th {\n",
       "        text-align: right;\n",
       "    }\n",
       "</style>\n",
       "<table border=\"1\" class=\"dataframe\">\n",
       "  <thead>\n",
       "    <tr style=\"text-align: right;\">\n",
       "      <th></th>\n",
       "      <th>experience_level</th>\n",
       "      <th>salary_in_usd</th>\n",
       "    </tr>\n",
       "  </thead>\n",
       "  <tbody>\n",
       "    <tr>\n",
       "      <th>0</th>\n",
       "      <td>EN</td>\n",
       "      <td>25</td>\n",
       "    </tr>\n",
       "    <tr>\n",
       "      <th>1</th>\n",
       "      <td>MI</td>\n",
       "      <td>41</td>\n",
       "    </tr>\n",
       "    <tr>\n",
       "      <th>2</th>\n",
       "      <td>SE</td>\n",
       "      <td>32</td>\n",
       "    </tr>\n",
       "  </tbody>\n",
       "</table>\n",
       "</div>"
      ],
      "text/plain": [
       "  experience_level  salary_in_usd\n",
       "0               EN             25\n",
       "1               MI             41\n",
       "2               SE             32"
      ]
     },
     "execution_count": 16,
     "metadata": {},
     "output_type": "execute_result"
    }
   ],
   "source": [
    "pivot5 = pd.pivot_table(df_c2, values = ['salary_in_usd'], index = ['experience_level'], aggfunc='count', fill_value=None, margins=False, dropna=True, margins_name='All', observed=False, sort = True)\n",
    "pivot5.reset_index(inplace=True) #Change pivottable to database.\n",
    "\n",
    "pivot5"
   ]
  },
  {
   "cell_type": "code",
   "execution_count": 17,
   "id": "df31ee52",
   "metadata": {},
   "outputs": [
    {
     "data": {
      "text/html": [
       "<div>\n",
       "<style scoped>\n",
       "    .dataframe tbody tr th:only-of-type {\n",
       "        vertical-align: middle;\n",
       "    }\n",
       "\n",
       "    .dataframe tbody tr th {\n",
       "        vertical-align: top;\n",
       "    }\n",
       "\n",
       "    .dataframe thead th {\n",
       "        text-align: right;\n",
       "    }\n",
       "</style>\n",
       "<table border=\"1\" class=\"dataframe\">\n",
       "  <thead>\n",
       "    <tr style=\"text-align: right;\">\n",
       "      <th></th>\n",
       "      <th>experience_level</th>\n",
       "      <th>salary_in_usd</th>\n",
       "    </tr>\n",
       "  </thead>\n",
       "  <tbody>\n",
       "    <tr>\n",
       "      <th>0</th>\n",
       "      <td>EN</td>\n",
       "      <td>14</td>\n",
       "    </tr>\n",
       "    <tr>\n",
       "      <th>1</th>\n",
       "      <td>MI</td>\n",
       "      <td>55</td>\n",
       "    </tr>\n",
       "    <tr>\n",
       "      <th>2</th>\n",
       "      <td>SE</td>\n",
       "      <td>57</td>\n",
       "    </tr>\n",
       "  </tbody>\n",
       "</table>\n",
       "</div>"
      ],
      "text/plain": [
       "  experience_level  salary_in_usd\n",
       "0               EN             14\n",
       "1               MI             55\n",
       "2               SE             57"
      ]
     },
     "execution_count": 17,
     "metadata": {},
     "output_type": "execute_result"
    }
   ],
   "source": [
    "pivot6 = pd.pivot_table(df_c3, values = ['salary_in_usd'], index = ['experience_level'], aggfunc='count', fill_value=None, margins=False, dropna=True, margins_name='All', observed=False, sort = True)\n",
    "pivot6.reset_index(inplace=True) #Change pivottable to database.\n",
    "\n",
    "pivot6"
   ]
  },
  {
   "cell_type": "code",
   "execution_count": 18,
   "id": "53f50ab2",
   "metadata": {
    "scrolled": true
   },
   "outputs": [
    {
     "data": {
      "text/html": [
       "<div>\n",
       "<style scoped>\n",
       "    .dataframe tbody tr th:only-of-type {\n",
       "        vertical-align: middle;\n",
       "    }\n",
       "\n",
       "    .dataframe tbody tr th {\n",
       "        vertical-align: top;\n",
       "    }\n",
       "\n",
       "    .dataframe thead th {\n",
       "        text-align: right;\n",
       "    }\n",
       "</style>\n",
       "<table border=\"1\" class=\"dataframe\">\n",
       "  <thead>\n",
       "    <tr style=\"text-align: right;\">\n",
       "      <th></th>\n",
       "      <th>experience_level</th>\n",
       "      <th>salary_in_usd</th>\n",
       "    </tr>\n",
       "  </thead>\n",
       "  <tbody>\n",
       "    <tr>\n",
       "      <th>0</th>\n",
       "      <td>EN</td>\n",
       "      <td>88</td>\n",
       "    </tr>\n",
       "    <tr>\n",
       "      <th>1</th>\n",
       "      <td>MI</td>\n",
       "      <td>210</td>\n",
       "    </tr>\n",
       "    <tr>\n",
       "      <th>2</th>\n",
       "      <td>SE</td>\n",
       "      <td>299</td>\n",
       "    </tr>\n",
       "  </tbody>\n",
       "</table>\n",
       "</div>"
      ],
      "text/plain": [
       "  experience_level  salary_in_usd\n",
       "0               EN             88\n",
       "1               MI            210\n",
       "2               SE            299"
      ]
     },
     "execution_count": 18,
     "metadata": {},
     "output_type": "execute_result"
    }
   ],
   "source": [
    "pivot7 = pd.pivot_table(df_rename, values = ['salary_in_usd'], index = ['experience_level'], aggfunc='count', fill_value=None, margins=False, dropna=True, margins_name='All', observed=False, sort = True)\n",
    "pivot7.reset_index(inplace=True) #Change pivottable to database.\n",
    "\n",
    "pivot7"
   ]
  },
  {
   "cell_type": "code",
   "execution_count": 19,
   "id": "ee036aa2",
   "metadata": {
    "scrolled": true
   },
   "outputs": [
    {
     "data": {
      "image/png": "[encoded data removed]",
      "text/plain": [
       "<Figure size 720x720 with 4 Axes>"
      ]
     },
     "metadata": {},
     "output_type": "display_data"
    }
   ],
   "source": [
    "# Q10. Change the above bar chart to four subplots. Each subplot shows the change of enrollment number of each group. 10 points.\n",
    "\n",
    "\n",
    "fig, axes = plt.subplots(2,2, sharex = False, sharey = False, figsize = (10,10))\n",
    "# This creates a 2*2 canvas for subplots\n",
    "x_axis = ['Entry-level', 'Mid-level', 'Senior-level']\n",
    "    \n",
    "axes[0, 0].pie(pivot4.iloc[:, 1], labels = pivot4.iloc[:, 0], autopct = '%.2f%%')\n",
    "axes[0, 0].set_title(\"Fully remote (more than 80%)\")\n",
    "\n",
    "axes[0, 1].pie(pivot5.iloc[:, 1], labels = pivot5.iloc[:, 0], autopct = '%.2f%%')\n",
    "axes[0, 1].set_title(\"Partially remote\")\n",
    "\n",
    "axes[1, 0].pie(pivot6.iloc[:, 1], labels = pivot6.iloc[:, 0], autopct = '%.2f%%')\n",
    "axes[1, 0].set_title(\"No remote work (less than 20%)\")\n",
    "\n",
    "axes[1, 1].pie(pivot7.iloc[:, 1], labels = pivot7.iloc[:, 0], autopct = '%.2f%%')\n",
    "axes[1, 1].set_title(\"Total_ratio\")\n",
    "\n",
    "fig.suptitle('Experience Level of positions depends on remotio_ratio')\n",
    "\n",
    "plt.legend(pivot5.iloc[:, 0], loc='best')\n",
    "\n",
    "plt.show()"
   ]
  },
  {
   "cell_type": "markdown",
   "id": "2623c8db",
   "metadata": {},
   "source": [
    "According to these pie charts, employees who have senior level are the largest part of fully remote employee group. We can check that 56.30% of fully remote employees are senior level, 30.56% of fully remote employees are Mid-level and only 13.14% of fully remote employees are Entry-level. We can check that 45.24% of No remote work group are senior level, 43.65% of No remote work group are Mid-level and only 11.11% of No remote work group are Entry-level. On the other side Mid-level is the bigest parts in partially remote group(41.84%). Also, partially remote group has smallest percentage of senior-level employee compared to other groups(32.65%). Also they have the largest percentage of entry-level employees compared to other group. \n",
    "The last pie chart is belong to all of employees' experience level. senior level employees are 50.08% of employees. Mid-level is 35.18%, Entry level is only 14.74%. Partially remote has difference on the percentage of experience level. By this result, I guessed the difference of salary in remote group is resulted from the experience level ratio in each group. The next study will show the salary difference depends on experience level."
   ]
  },
  {
   "cell_type": "code",
   "execution_count": 20,
   "id": "0f623043",
   "metadata": {
    "scrolled": true
   },
   "outputs": [
    {
     "name": "stdout",
     "output_type": "stream",
     "text": [
      "  experience_level  salary_in_usd\n",
      "0               EN   61643.318182\n",
      "1               MI   82953.142857\n",
      "2               SE  137575.367893\n"
     ]
    },
    {
     "data": {
      "image/png": "[encoded data removed]",
      "text/plain": [
       "<Figure size 432x288 with 1 Axes>"
      ]
     },
     "metadata": {
      "needs_background": "light"
     },
     "output_type": "display_data"
    }
   ],
   "source": [
    "pivot8 = pd.pivot_table(df_rename, values = ['salary_in_usd'], index = ['experience_level'], aggfunc='mean', fill_value=None, margins=False, dropna=True, margins_name='All', observed=False, sort = True)\n",
    "pivot8.reset_index(inplace=True) #Change pivottable to database.\n",
    "\n",
    "plt.barh(pivot8.iloc[:, 0], pivot8.iloc[:, 1])\n",
    "plt.ylabel('experience_level')\n",
    "plt.xlabel('salary in usd')\n",
    "plt.title('salary in usd depends on experience_level')\n",
    "\n",
    "print(pivot8)\n",
    "plt.show()"
   ]
  },
  {
   "cell_type": "markdown",
   "id": "193a12a2",
   "metadata": {},
   "source": [
    "As expected, senior-level positions are paid much higher than entry-level and mid-level positions. Senior-level positions' average of salary is 137575 USD. Mid-level positions' average of salary is 82953 USD. Entry-level positions' average of salary is 61643 USD. It is almost twice higher than other groups' salary. Fully remote group has the largest percentage of senior-level compared to other group. It might have worked as a result of salary difference."
   ]
  },
  {
   "cell_type": "markdown",
   "id": "a10bf46e",
   "metadata": {},
   "source": [
    "**4. Summary.**\n",
    "\n",
    "**Summarize the main findings from this project, as well as what you failed to find from the results. Describe what you want to further explore about the topic.**\n",
    "\n",
    "Fully remote group is the group that gets the largest salary compared to other groups. No remote work group is second. Also, Salary average in the partially remote group is only 66.55% of Fully remote group's salary average.\n",
    "\n",
    "The biggest number of positions' group is Fully remote group. 62.48% of positions do the fully remoter group. Also, the trend has improved.\n",
    "\n",
    "The biggest parts of fully remote positions are senior level positions. Percentage of senior-level and mid-level positions in no remote positions are similar to each others. Relatively, entry level positions has big percentages of partially remote group compared to other groups.\n",
    "\n",
    "But I failed what something exactly caused on difference between each remote group's salary. I should find more relationship between remote work and company size or employment_type to find other reason that resulted in difference in salary between remote group.\n",
    "\n",
    "Also, If I had remote group data as numeric value, I should have used scatter plot to find some linear relationship or negative or positive relationship. Though, the data already organized as categorical values."
   ]
  },
  {
   "cell_type": "markdown",
   "id": "3690d86e",
   "metadata": {},
   "source": [
    "**5. Upload it to your Github repository.**\n",
    "\n",
    "**Then include a link to your Github repository and upload the entire Jupyter-notebook file to Moodle.**"
   ]
  },
  {
   "cell_type": "code",
   "execution_count": null,
   "id": "37a4ea88",
   "metadata": {},
   "outputs": [],
   "source": []
  }
 ],
 "metadata": {
  "kernelspec": {
   "display_name": "Python 3 (ipykernel)",
   "language": "python",
   "name": "python3"
  },
  "language_info": {
   "codemirror_mode": {
    "name": "ipython",
    "version": 3
   },
   "file_extension": ".py",
   "mimetype": "text/x-python",
   "name": "python",
   "nbconvert_exporter": "python",
   "pygments_lexer": "ipython3",
   "version": "3.9.12"
  }
 },
 "nbformat": 4,
 "nbformat_minor": 5
}
